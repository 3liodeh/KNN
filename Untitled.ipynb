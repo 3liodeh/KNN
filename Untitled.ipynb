{
 "cells": [
  {
   "cell_type": "code",
   "execution_count": 267,
   "id": "e6878123",
   "metadata": {},
   "outputs": [],
   "source": [
    "from sklearn.neighbors import KNeighborsClassifier\n",
    "from sklearn.exceptions import ConvergenceWarning\n",
    "import pandas as pd\n",
    "import numpy as np\n",
    "import warnings\n",
    "import cv2\n",
    "warnings.filterwarnings(action='ignore', category=FutureWarning) # setting ignore as a parameter and further adding category\n"
   ]
  },
  {
   "cell_type": "code",
   "execution_count": 268,
   "id": "35625bfe",
   "metadata": {},
   "outputs": [],
   "source": [
    "nodes=[]\n",
    "count=0\n",
    "stop=False\n",
    "def mouse_callback(event, x, y, flags, params):\n",
    "    if event == cv2.EVENT_LBUTTONDOWN:\n",
    "        global nodes\n",
    "        global count\n",
    "        count+=1\n",
    "        nodes.append([x,y])\n",
    "    if event == cv2.EVENT_RBUTTONDOWN:\n",
    "        global stop\n",
    "        stop=True\n",
    "        \n",
    "cv2.namedWindow(\"plot\")\n",
    "cv2.setMouseCallback(\"plot\", mouse_callback)\n",
    "\n",
    "img=cv2.imread(\"blankplot.png\")\n",
    "img=cv2.resize(img,(900,540))\n",
    "while True:\n",
    "    cv2.imshow(\"plot\",img)\n",
    "    cv2.waitKey(10)\n",
    "    if count>0:\n",
    "        cv2.circle(img, (nodes[count-1][0], nodes[count-1][1]),4, (0, 0, 255), -1)\n",
    "    if stop:\n",
    "        break\n",
    "        \n",
    "points=[]\n",
    "for i in range(len(nodes)):\n",
    "    points.append([nodes[i][0],nodes[i][1],i])\n",
    "\n",
    "\n",
    "points=pd.DataFrame(points).copy(deep=True)\n",
    "\n",
    "values=points.copy(deep=True)\n",
    "\n",
    "\n",
    "drop=0\n",
    "seq=[drop]\n",
    "o=0\n",
    "for i in range(len(values)-1):\n",
    "    o+=1\n",
    "    \n",
    "    if len(values)==1:\n",
    "        break\n",
    "    \n",
    "    PX=values[[0,1]].loc[drop]\n",
    "    values.drop(drop,axis=0,inplace=True)\n",
    "\n",
    "    KNN=KNeighborsClassifier(n_neighbors=1).fit(np.array(values[[0,1]]),np.array(values[2]))\n",
    "    drop=KNN.predict(np.array(PX).reshape(1,-1))[0]\n",
    "    seq.append(drop)\n",
    "\n",
    "seq.append(0)\n",
    "\n",
    "for i in range(len(seq)-1):\n",
    "    for j in range(10000000):\n",
    "        pass\n",
    "    cv2.line(img,(points[0][seq[i]],points[1][seq[i]]),(points[0][seq[i+1]],points[1][seq[i+1]]),(255,200,100),5)\n",
    "    cv2.imshow(\"plot\",img)\n",
    "    cv2.waitKey(10)"
   ]
  },
  {
   "cell_type": "code",
   "execution_count": null,
   "id": "41a25020",
   "metadata": {},
   "outputs": [],
   "source": []
  },
  {
   "cell_type": "code",
   "execution_count": null,
   "id": "b1bfceb8",
   "metadata": {},
   "outputs": [],
   "source": []
  }
 ],
 "metadata": {
  "kernelspec": {
   "display_name": "Python 3 (ipykernel)",
   "language": "python",
   "name": "python3"
  },
  "language_info": {
   "codemirror_mode": {
    "name": "ipython",
    "version": 3
   },
   "file_extension": ".py",
   "mimetype": "text/x-python",
   "name": "python",
   "nbconvert_exporter": "python",
   "pygments_lexer": "ipython3",
   "version": "3.9.13"
  }
 },
 "nbformat": 4,
 "nbformat_minor": 5
}
